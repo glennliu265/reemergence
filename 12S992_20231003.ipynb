{
 "cells": [
  {
   "cell_type": "code",
   "execution_count": 17,
   "id": "ebbb4b0c-f190-404d-9a42-5bbe1b4655f7",
   "metadata": {
    "tags": []
   },
   "outputs": [],
   "source": [
    "import numpy as np\n",
    "import pandas as pd\n",
    "import matplotlib.pyplot as plt"
   ]
  },
  {
   "cell_type": "code",
   "execution_count": 5,
   "id": "e3732df3-80b1-446c-8852-13b96511ace4",
   "metadata": {
    "tags": []
   },
   "outputs": [],
   "source": [
    "datpath = \"/Users/gliu/Downloads/06_School/10_Fall2023/12S992/Lectures/20231003_Lecture04/saltpond.txt\"\n",
    "data    = pd.read_csv(datpath,index_col=None,header=None)"
   ]
  },
  {
   "cell_type": "code",
   "execution_count": 6,
   "id": "8b017e3c-656e-4444-bd37-0dba604f7728",
   "metadata": {
    "tags": []
   },
   "outputs": [
    {
     "data": {
      "text/html": [
       "<div>\n",
       "<style scoped>\n",
       "    .dataframe tbody tr th:only-of-type {\n",
       "        vertical-align: middle;\n",
       "    }\n",
       "\n",
       "    .dataframe tbody tr th {\n",
       "        vertical-align: top;\n",
       "    }\n",
       "\n",
       "    .dataframe thead th {\n",
       "        text-align: right;\n",
       "    }\n",
       "</style>\n",
       "<table border=\"1\" class=\"dataframe\">\n",
       "  <thead>\n",
       "    <tr style=\"text-align: right;\">\n",
       "      <th></th>\n",
       "      <th>0</th>\n",
       "      <th>1</th>\n",
       "    </tr>\n",
       "  </thead>\n",
       "  <tbody>\n",
       "    <tr>\n",
       "      <th>0</th>\n",
       "      <td>2013</td>\n",
       "      <td>0</td>\n",
       "    </tr>\n",
       "    <tr>\n",
       "      <th>1</th>\n",
       "      <td>2012</td>\n",
       "      <td>0</td>\n",
       "    </tr>\n",
       "    <tr>\n",
       "      <th>2</th>\n",
       "      <td>2011</td>\n",
       "      <td>0</td>\n",
       "    </tr>\n",
       "    <tr>\n",
       "      <th>3</th>\n",
       "      <td>2010</td>\n",
       "      <td>0</td>\n",
       "    </tr>\n",
       "    <tr>\n",
       "      <th>4</th>\n",
       "      <td>2009</td>\n",
       "      <td>0</td>\n",
       "    </tr>\n",
       "    <tr>\n",
       "      <th>...</th>\n",
       "      <td>...</td>\n",
       "      <td>...</td>\n",
       "    </tr>\n",
       "    <tr>\n",
       "      <th>2009</th>\n",
       "      <td>4</td>\n",
       "      <td>0</td>\n",
       "    </tr>\n",
       "    <tr>\n",
       "      <th>2010</th>\n",
       "      <td>3</td>\n",
       "      <td>0</td>\n",
       "    </tr>\n",
       "    <tr>\n",
       "      <th>2011</th>\n",
       "      <td>2</td>\n",
       "      <td>0</td>\n",
       "    </tr>\n",
       "    <tr>\n",
       "      <th>2012</th>\n",
       "      <td>1</td>\n",
       "      <td>0</td>\n",
       "    </tr>\n",
       "    <tr>\n",
       "      <th>2013</th>\n",
       "      <td>0</td>\n",
       "      <td>0</td>\n",
       "    </tr>\n",
       "  </tbody>\n",
       "</table>\n",
       "<p>2014 rows × 2 columns</p>\n",
       "</div>"
      ],
      "text/plain": [
       "         0  1\n",
       "0     2013  0\n",
       "1     2012  0\n",
       "2     2011  0\n",
       "3     2010  0\n",
       "4     2009  0\n",
       "...    ... ..\n",
       "2009     4  0\n",
       "2010     3  0\n",
       "2011     2  0\n",
       "2012     1  0\n",
       "2013     0  0\n",
       "\n",
       "[2014 rows x 2 columns]"
      ]
     },
     "execution_count": 6,
     "metadata": {},
     "output_type": "execute_result"
    }
   ],
   "source": [
    "data"
   ]
  },
  {
   "cell_type": "code",
   "execution_count": 7,
   "id": "3ac3017f-ef2b-465d-a977-ad14c591b1ce",
   "metadata": {
    "tags": []
   },
   "outputs": [
    {
     "data": {
      "text/plain": [
       "<AxesSubplot: xlabel='0'>"
      ]
     },
     "execution_count": 7,
     "metadata": {},
     "output_type": "execute_result"
    },
    {
     "data": {
      "image/png": "[encoded data removed]",
      "text/plain": [
       "<Figure size 640x480 with 1 Axes>"
      ]
     },
     "metadata": {},
     "output_type": "display_data"
    }
   ],
   "source": [
    "data.plot(x=0,y=1)"
   ]
  },
  {
   "cell_type": "code",
   "execution_count": 8,
   "id": "e7a6ce73-7bf8-4c0e-bcf1-9c1ceece2bf7",
   "metadata": {
    "tags": []
   },
   "outputs": [],
   "source": [
    "yr     = data[0].values\n",
    "counts = data[1].values"
   ]
  },
  {
   "cell_type": "code",
   "execution_count": 13,
   "id": "1883598e-def5-41ec-bfa2-08b057d43bb7",
   "metadata": {
    "tags": []
   },
   "outputs": [
    {
     "name": "stdout",
     "output_type": "stream",
     "text": [
      "0.01737835153922542\n"
     ]
    }
   ],
   "source": [
    "rate   = counts.sum() / len(yr)\n",
    "print(rate)"
   ]
  },
  {
   "cell_type": "code",
   "execution_count": 15,
   "id": "b4ec3221-9f54-4bd0-92b2-198bca0a08ae",
   "metadata": {
    "tags": []
   },
   "outputs": [],
   "source": [
    "all_samples = []\n",
    "rate_sample = []\n",
    "for mc in range(10000):\n",
    "    \n",
    "    sample    = np.random.choice(counts,size=len(yr))\n",
    "    rate_samp = sample.sum()/len(yr)\n",
    "    \n",
    "    all_samples.append(sample)\n",
    "    rate_sample.append(rate_samp)\n",
    "    \n",
    "    "
   ]
  },
  {
   "cell_type": "code",
   "execution_count": 33,
   "id": "25efe66d-afc0-4016-b7d6-49e23c6c4406",
   "metadata": {
    "tags": []
   },
   "outputs": [
    {
     "data": {
      "text/plain": [
       "<matplotlib.legend.Legend at 0x7fc489a465f0>"
      ]
     },
     "execution_count": 33,
     "metadata": {},
     "output_type": "execute_result"
    },
    {
     "data": {
      "image/png": "[encoded data removed]",
      "text/plain": [
       "<Figure size 640x480 with 1 Axes>"
      ]
     },
     "metadata": {},
     "output_type": "display_data"
    }
   ],
   "source": [
    "pbot,ptop = np.percentile(rate_sample,q=[2.5,97.5])\n",
    "\n",
    "fig,ax = plt.subplots(1,1)\n",
    "\n",
    "ax.hist(rate_sample,edgecolor=\"w\",bins=25)\n",
    "ax.axvline([rate],color=\"k\",label=\"Mean Esimate = %f\" % (rate))\n",
    "ax.axvline([pbot],color='r' ,label=\"2.5 = %f\" % (pbot))\n",
    "ax.axvline([ptop],color='r',label=\"97.5 = %f\" % (ptop))\n",
    "\n",
    "\n",
    "\n",
    "ax.legend()\n",
    "\n",
    "\n",
    "#np.percentile(rate_sample)"
   ]
  },
  {
   "cell_type": "code",
   "execution_count": 31,
   "id": "6c800576-0385-4eb0-892e-7c99e22a4ce2",
   "metadata": {
    "tags": []
   },
   "outputs": [
    {
     "data": {
      "text/plain": [
       "(0.011916583912611719, 0.02333664349553128)"
      ]
     },
     "execution_count": 31,
     "metadata": {},
     "output_type": "execute_result"
    }
   ],
   "source": [
    "pbot,ptop = np.percentile(rate_sample,q=[2.5,97.5])\n",
    "pbot,ptop"
   ]
  },
  {
   "cell_type": "code",
   "execution_count": null,
   "id": "03b8b9ed-69d8-4ee2-b5cc-50f6925d6ec0",
   "metadata": {},
   "outputs": [],
   "source": []
  }
 ],
 "metadata": {
  "kernelspec": {
   "display_name": "Python 3 (ipykernel)",
   "language": "python",
   "name": "python3"
  },
  "language_info": {
   "codemirror_mode": {
    "name": "ipython",
    "version": 3
   },
   "file_extension": ".py",
   "mimetype": "text/x-python",
   "name": "python",
   "nbconvert_exporter": "python",
   "pygments_lexer": "ipython3",
   "version": "3.9.13"
  }
 },
 "nbformat": 4,
 "nbformat_minor": 5
}
